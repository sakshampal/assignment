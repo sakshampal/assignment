{
 "cells": [
  {
   "cell_type": "code",
   "execution_count": null,
   "id": "5533ed15-1464-40c1-abee-b09e33718163",
   "metadata": {},
   "outputs": [],
   "source": [
    "Q1 Ans: Guido van Rossum"
   ]
  },
  {
   "cell_type": "code",
   "execution_count": null,
   "id": "5bbe2a9c-f07a-4505-8d11-fd6805616adc",
   "metadata": {},
   "outputs": [],
   "source": [
    "Q2 Ans: Python support Oops , Structured and Functional programming"
   ]
  },
  {
   "cell_type": "code",
   "execution_count": null,
   "id": "444eddef-915c-4063-a0f5-210eb5e541e0",
   "metadata": {},
   "outputs": [],
   "source": [
    "Q3 Ans: Yes"
   ]
  },
  {
   "cell_type": "code",
   "execution_count": null,
   "id": "ab5bbf75-8599-4dd3-a7b3-732d7530ce53",
   "metadata": {},
   "outputs": [],
   "source": [
    "Q4 Ans: .py"
   ]
  },
  {
   "cell_type": "code",
   "execution_count": null,
   "id": "c2d08133-7ff8-4833-9ae5-147d1b2f901c",
   "metadata": {},
   "outputs": [],
   "source": [
    "Q5 Ans: Python code is both compiled and interpreted\n"
   ]
  },
  {
   "cell_type": "code",
   "execution_count": null,
   "id": "6c03ed2a-08a7-4c48-b295-cb4f732fa098",
   "metadata": {},
   "outputs": [],
   "source": [
    "Q6 Ans: Indentation"
   ]
  },
  {
   "cell_type": "code",
   "execution_count": null,
   "id": "8dad5407-99ad-4c46-9267-e6d7e50a2f2e",
   "metadata": {},
   "outputs": [],
   "source": [
    "Q7 Ans: Hash character (#) "
   ]
  },
  {
   "cell_type": "code",
   "execution_count": null,
   "id": "900855c9-dc64-435e-ac9e-1daa56153fc7",
   "metadata": {},
   "outputs": [],
   "source": [
    "Q8 Ans: sys.version\n"
   ]
  },
  {
   "cell_type": "code",
   "execution_count": null,
   "id": "6b3e8893-fd82-48fd-bdff-f3b507753d47",
   "metadata": {},
   "outputs": [],
   "source": [
    "Q9 Ans: Lambda"
   ]
  },
  {
   "cell_type": "code",
   "execution_count": null,
   "id": "022ad45e-6b17-4b9f-aea5-a4df31be67ba",
   "metadata": {},
   "outputs": [],
   "source": [
    "Q10 Ans: Preferred Installer Program"
   ]
  },
  {
   "cell_type": "code",
   "execution_count": null,
   "id": "b31e8376-a31f-4307-9f66-aed2eabb27cc",
   "metadata": {},
   "outputs": [],
   "source": [
    "Q11 Ans: print() , int() , dict()"
   ]
  },
  {
   "cell_type": "code",
   "execution_count": null,
   "id": "a02bec38-c43a-4904-9415-a35afc95fa8e",
   "metadata": {},
   "outputs": [],
   "source": [
    "Q12 Ans1: Identifiers can be of any length"
   ]
  },
  {
   "cell_type": "code",
   "execution_count": null,
   "id": "833b9690-a434-42c0-a2aa-d996184016d4",
   "metadata": {},
   "outputs": [],
   "source": [
    "Q13 Ans: Third-Party Modules , Open Source and free , Huge Support Community , Easy to learn , Speed\n"
   ]
  },
  {
   "cell_type": "code",
   "execution_count": null,
   "id": "63df735e-31fd-40c4-8c21-b14b32b1495b",
   "metadata": {},
   "outputs": [],
   "source": [
    "Q14 Ans : Python private heap space."
   ]
  },
  {
   "cell_type": "code",
   "execution_count": null,
   "id": "58d7ac03-a1bf-4d83-8dad-090913c9ae9e",
   "metadata": {},
   "outputs": [],
   "source": [
    "Q15 Ans: Install python from this link https://www.python.org/downloads/\n",
    "After this, install it on your PC. Look for the location where PYTHON has been installed on your PC using tge following command on your command prompt: cmd python.\n",
    "Then go to advanced system settings and add new variable and name it as PYTHON_NAME and paste the copied path.\n",
    "Then look for the path variable, select it's value and select edit\n",
    "Add a semicolon towards the end of the value if it's not present and then type %PYTHON_HOME%\n"
   ]
  },
  {
   "cell_type": "code",
   "execution_count": null,
   "id": "4ee8d051-6dc8-4869-9b86-16bd713c483d",
   "metadata": {},
   "outputs": [],
   "source": [
    "Q16 Ans: Yes"
   ]
  }
 ],
 "metadata": {
  "kernelspec": {
   "display_name": "Python 3 (ipykernel)",
   "language": "python",
   "name": "python3"
  },
  "language_info": {
   "codemirror_mode": {
    "name": "ipython",
    "version": 3
   },
   "file_extension": ".py",
   "mimetype": "text/x-python",
   "name": "python",
   "nbconvert_exporter": "python",
   "pygments_lexer": "ipython3",
   "version": "3.10.8"
  }
 },
 "nbformat": 4,
 "nbformat_minor": 5
}
